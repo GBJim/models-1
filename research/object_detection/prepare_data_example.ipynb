{
 "cells": [
  {
   "cell_type": "code",
   "execution_count": 5,
   "metadata": {},
   "outputs": [],
   "source": [
    "import sys\n",
    "sys.path.append(\"../\")\n",
    "import tensorflow as tf\n",
    "from utils import dataset_util\n",
    "from vatic import VaticData, IMDBGroup\n",
    "import os\n",
    "from scipy.misc import imread\n",
    "import sys\n",
    "from utils import label_map_util\n",
    "import cv2\n",
    "\n",
    "from utils import label_map_util\n"
   ]
  },
  {
   "cell_type": "code",
   "execution_count": 6,
   "metadata": {},
   "outputs": [
    {
     "name": "stdout",
     "output_type": "stream",
     "text": [
      "Meta data path: /root/data/data-A1HighwayDay/meta.json does not exist. Use Default meta data\n",
      "{'test': {'start': None, 'sets': [1], 'end': None, 'stride': 30}, 'train': {'start': None, 'sets': [0], 'end': None, 'stride': 1}, 'format': 'jpg'}\n",
      "Total: 3160 images\n",
      "Meta data path: /root/data/data-B2HighwayNight/meta.json does not exist. Use Default meta data\n",
      "{'test': {'start': None, 'sets': [1], 'end': None, 'stride': 30}, 'train': {'start': None, 'sets': [0], 'end': None, 'stride': 1}, 'format': 'jpg'}\n",
      "Total: 3160 images\n"
     ]
    }
   ],
   "source": [
    "A = VaticData('A1HighwayDay', CLS_mapper= {u'trailer-head': \"truck\", u'sedan/suv': \"car\", u'van': \"car\"})\n",
    "\n",
    "B = VaticData('B2HighwayNight', CLS_mapper= {u'trailer-head': \"truck\", u'sedan/suv': \"car\", u'van': \"car\"})\n",
    "vatic_group = IMDBGroup([A,B])"
   ]
  },
  {
   "cell_type": "code",
   "execution_count": 7,
   "metadata": {},
   "outputs": [
    {
     "name": "stdout",
     "output_type": "stream",
     "text": [
      "Tensorflow Record has been writen into AB.record\n"
     ]
    }
   ],
   "source": [
    "\n",
    "NUM_CLASSES = 90\n",
    "PATH_TO_LABELS = \"/root/object_detection/data/mscoco_label_map.pbtxt\"\n",
    "label_map = label_map_util.load_labelmap(PATH_TO_LABELS)\n",
    "categories = label_map_util.convert_label_map_to_categories(label_map, max_num_classes=NUM_CLASSES, use_display_name=True)\n",
    "category_index = label_map_util.create_category_index(categories)\n",
    "\n",
    "get_category_name2id = lambda category_index: {item['name']: item['id'] for item in category_index.values()}\n",
    "\n",
    "category_name2id = get_category_name2id(category_index)\n",
    "\n",
    "\n",
    "def get_diff_classes(vatic ,category_index):\n",
    "    return list(vatic.class_set - set(category_name2id))\n",
    "vatic_group.dumpTFRecord(\"AB.record\", category_name2id)\n"
   ]
  },
  {
   "cell_type": "code",
   "execution_count": null,
   "metadata": {},
   "outputs": [],
   "source": []
  }
 ],
 "metadata": {
  "kernelspec": {
   "display_name": "Python 2",
   "language": "python",
   "name": "python2"
  },
  "language_info": {
   "codemirror_mode": {
    "name": "ipython",
    "version": 2
   },
   "file_extension": ".py",
   "mimetype": "text/x-python",
   "name": "python",
   "nbconvert_exporter": "python",
   "pygments_lexer": "ipython2",
   "version": "2.7.12"
  }
 },
 "nbformat": 4,
 "nbformat_minor": 2
}
