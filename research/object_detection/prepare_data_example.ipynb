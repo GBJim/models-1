{
 "cells": [
  {
   "cell_type": "code",
   "execution_count": 1,
   "metadata": {},
   "outputs": [
    {
     "name": "stderr",
     "output_type": "stream",
     "text": [
      "/usr/local/lib/python2.7/dist-packages/h5py/__init__.py:36: FutureWarning: Conversion of the second argument of issubdtype from `float` to `np.floating` is deprecated. In future, it will be treated as `np.float64 == np.dtype(float).type`.\n",
      "  from ._conv import register_converters as _register_converters\n"
     ]
    }
   ],
   "source": [
    "import sys\n",
    "sys.path.append(\"../\")\n",
    "import tensorflow as tf\n",
    "from utils import dataset_util\n",
    "from vatic import VaticData, IMDBGroup\n",
    "import os\n",
    "from scipy.misc import imread\n",
    "import sys\n",
    "from utils import label_map_util\n",
    "import cv2\n",
    "\n",
    "from utils import label_map_util\n",
    "from coco import coco"
   ]
  },
  {
   "cell_type": "code",
   "execution_count": 2,
   "metadata": {},
   "outputs": [
    {
     "name": "stdout",
     "output_type": "stream",
     "text": [
      "loading annotations into memory...\n",
      "Done (t=15.63s)\n",
      "creating index...\n",
      "index created!\n",
      "loading annotations into memory...\n",
      "Done (t=7.54s)\n",
      "creating index...\n",
      "index created!\n"
     ]
    }
   ],
   "source": [
    "coco_train = coco(\"train\", \"2014\")   \n",
    "coco_val = coco(\"val\", \"2014\")   \n"
   ]
  },
  {
   "cell_type": "code",
   "execution_count": 3,
   "metadata": {},
   "outputs": [
    {
     "name": "stdout",
     "output_type": "stream",
     "text": [
      "Tensorflow Record has been writen into coco_train.record\n"
     ]
    }
   ],
   "source": [
    "\n",
    "NUM_CLASSES = 90\n",
    "PATH_TO_LABELS = \"/root/object_detection/data/mscoco_label_map.pbtxt\"\n",
    "label_map = label_map_util.load_labelmap(PATH_TO_LABELS)\n",
    "categories = label_map_util.convert_label_map_to_categories(label_map, max_num_classes=NUM_CLASSES, use_display_name=True)\n",
    "category_index = label_map_util.create_category_index(categories)\n",
    "\n",
    "get_category_name2id = lambda category_index: {item['name']: item['id'] for item in category_index.values()}\n",
    "\n",
    "category_name2id = get_category_name2id(category_index)\n",
    "\n",
    "\n",
    "def get_diff_classes(vatic ,category_index):\n",
    "    return list(vatic.class_set - set(category_name2id))\n",
    "coco_train.dumpTFRecord(\"coco_train.record\", category_name2id)"
   ]
  },
  {
   "cell_type": "code",
   "execution_count": 4,
   "metadata": {},
   "outputs": [
    {
     "name": "stdout",
     "output_type": "stream",
     "text": [
      "Meta data path: /root/data/data-A1HighwayDay/meta.json does not exist. Use Default meta data\n",
      "{'test': {'start': None, 'sets': [1], 'end': None, 'stride': 30}, 'train': {'start': None, 'sets': [0], 'end': None, 'stride': 1}, 'format': 'jpg'}\n",
      "Total: 3160 images\n",
      "Meta data path: /root/data/data-B2HighwayNight/meta.json does not exist. Use Default meta data\n",
      "{'test': {'start': None, 'sets': [1], 'end': None, 'stride': 30}, 'train': {'start': None, 'sets': [0], 'end': None, 'stride': 1}, 'format': 'jpg'}\n",
      "Total: 3160 images\n"
     ]
    }
   ],
   "source": [
    "A = VaticData('A1HighwayDay', CLS_mapper= {u'trailer-head': \"truck\", u'sedan/suv': \"car\", u'van': \"car\"})\n",
    "\n",
    "B = VaticData('B2HighwayNight', CLS_mapper= {u'trailer-head': \"truck\", u'sedan/suv': \"car\", u'van': \"car\"})\n",
    "vatic_group = IMDBGroup([A,B, coco_train, coco_val])"
   ]
  },
  {
   "cell_type": "code",
   "execution_count": 5,
   "metadata": {},
   "outputs": [
    {
     "ename": "ValueError",
     "evalue": "need more than 2 values to unpack",
     "output_type": "error",
     "traceback": [
      "\u001b[0;31m---------------------------------------------------------------------------\u001b[0m",
      "\u001b[0;31mValueError\u001b[0m                                Traceback (most recent call last)",
      "\u001b[0;32m<ipython-input-5-ea7aedb0fee1>\u001b[0m in \u001b[0;36m<module>\u001b[0;34m()\u001b[0m\n\u001b[1;32m     14\u001b[0m     \u001b[0;32mreturn\u001b[0m \u001b[0mlist\u001b[0m\u001b[0;34m(\u001b[0m\u001b[0mvatic\u001b[0m\u001b[0;34m.\u001b[0m\u001b[0mclass_set\u001b[0m \u001b[0;34m-\u001b[0m \u001b[0mset\u001b[0m\u001b[0;34m(\u001b[0m\u001b[0mcategory_name2id\u001b[0m\u001b[0;34m)\u001b[0m\u001b[0;34m)\u001b[0m\u001b[0;34m\u001b[0m\u001b[0m\n\u001b[1;32m     15\u001b[0m \u001b[0;31m#coco_train.dump(\"coco_train.record\", category_name2id)\u001b[0m\u001b[0;34m\u001b[0m\u001b[0;34m\u001b[0m\u001b[0m\n\u001b[0;32m---> 16\u001b[0;31m \u001b[0mvatic_group\u001b[0m\u001b[0;34m.\u001b[0m\u001b[0mdumpTFRecord\u001b[0m\u001b[0;34m(\u001b[0m\u001b[0;34m\"test.record\"\u001b[0m\u001b[0;34m,\u001b[0m \u001b[0mcategory_name2id\u001b[0m\u001b[0;34m)\u001b[0m\u001b[0;34m\u001b[0m\u001b[0m\n\u001b[0m",
      "\u001b[0;32m/root/models/research/object_detection/vatic.pyc\u001b[0m in \u001b[0;36mdumpTFRecord\u001b[0;34m(self, output_path, category_name2id)\u001b[0m\n\u001b[1;32m    167\u001b[0m                 \u001b[0;32mif\u001b[0m \u001b[0;32mnot\u001b[0m \u001b[0mvatic_data\u001b[0m\u001b[0;34m.\u001b[0m\u001b[0mis_video\u001b[0m\u001b[0;34m:\u001b[0m\u001b[0;34m\u001b[0m\u001b[0m\n\u001b[1;32m    168\u001b[0m                     \u001b[0mimg\u001b[0m \u001b[0;34m=\u001b[0m \u001b[0mimread\u001b[0m\u001b[0;34m(\u001b[0m\u001b[0mvatic_data\u001b[0m\u001b[0;34m.\u001b[0m\u001b[0mimage_path_at\u001b[0m\u001b[0;34m(\u001b[0m\u001b[0mi\u001b[0m\u001b[0;34m)\u001b[0m\u001b[0;34m)\u001b[0m\u001b[0;34m\u001b[0m\u001b[0m\n\u001b[0;32m--> 169\u001b[0;31m                     \u001b[0mimg_info\u001b[0m\u001b[0;34m[\u001b[0m\u001b[0;34m\"height\"\u001b[0m\u001b[0;34m]\u001b[0m\u001b[0;34m,\u001b[0m \u001b[0mimg_info\u001b[0m\u001b[0;34m[\u001b[0m\u001b[0;34m'width'\u001b[0m\u001b[0;34m]\u001b[0m\u001b[0;34m,\u001b[0m \u001b[0m_\u001b[0m \u001b[0;34m=\u001b[0m \u001b[0mimg\u001b[0m\u001b[0;34m.\u001b[0m\u001b[0mshape\u001b[0m\u001b[0;34m\u001b[0m\u001b[0m\n\u001b[0m\u001b[1;32m    170\u001b[0m                     \u001b[0mimg_info\u001b[0m\u001b[0;34m[\u001b[0m\u001b[0;34m\"format\"\u001b[0m\u001b[0;34m]\u001b[0m \u001b[0;34m=\u001b[0m \u001b[0mvatic_data\u001b[0m\u001b[0;34m.\u001b[0m\u001b[0mimage_path_at\u001b[0m\u001b[0;34m(\u001b[0m\u001b[0mi\u001b[0m\u001b[0;34m)\u001b[0m\u001b[0;34m.\u001b[0m\u001b[0msplit\u001b[0m\u001b[0;34m(\u001b[0m\u001b[0;34m'.'\u001b[0m\u001b[0;34m)\u001b[0m\u001b[0;34m[\u001b[0m\u001b[0;34m-\u001b[0m\u001b[0;36m1\u001b[0m\u001b[0;34m]\u001b[0m\u001b[0;34m\u001b[0m\u001b[0m\n\u001b[1;32m    171\u001b[0m \u001b[0;34m\u001b[0m\u001b[0m\n",
      "\u001b[0;31mValueError\u001b[0m: need more than 2 values to unpack"
     ]
    }
   ],
   "source": [
    "\n",
    "NUM_CLASSES = 90\n",
    "PATH_TO_LABELS = \"/root/object_detection/data/mscoco_label_map.pbtxt\"\n",
    "label_map = label_map_util.load_labelmap(PATH_TO_LABELS)\n",
    "categories = label_map_util.convert_label_map_to_categories(label_map, max_num_classes=NUM_CLASSES, use_display_name=True)\n",
    "category_index = label_map_util.create_category_index(categories)\n",
    "\n",
    "get_category_name2id = lambda category_index: {item['name']: item['id'] for item in category_index.values()}\n",
    "\n",
    "category_name2id = get_category_name2id(category_index)\n",
    "\n",
    "\n",
    "def get_diff_classes(vatic ,category_index):\n",
    "    return list(vatic.class_set - set(category_name2id))\n",
    "#coco_train.dump(\"coco_train.record\", category_name2id)\n",
    "vatic_group.dumpTFRecord(\"test.record\", category_name2id)\n"
   ]
  },
  {
   "cell_type": "code",
   "execution_count": 6,
   "metadata": {},
   "outputs": [
    {
     "name": "stdout",
     "output_type": "stream",
     "text": [
      "690M -rw-r--r-- 1 root root 690M Feb 12 10:18 test.record\r\n"
     ]
    }
   ],
   "source": [
    "ls -lsh test.record"
   ]
  },
  {
   "cell_type": "code",
   "execution_count": null,
   "metadata": {},
   "outputs": [],
   "source": []
  }
 ],
 "metadata": {
  "kernelspec": {
   "display_name": "Python 2",
   "language": "python",
   "name": "python2"
  },
  "language_info": {
   "codemirror_mode": {
    "name": "ipython",
    "version": 2
   },
   "file_extension": ".py",
   "mimetype": "text/x-python",
   "name": "python",
   "nbconvert_exporter": "python",
   "pygments_lexer": "ipython2",
   "version": "2.7.12"
  }
 },
 "nbformat": 4,
 "nbformat_minor": 2
}
