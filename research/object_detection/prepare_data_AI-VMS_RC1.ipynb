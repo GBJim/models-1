{
 "cells": [
  {
   "cell_type": "code",
   "execution_count": 1,
   "metadata": {},
   "outputs": [
    {
     "name": "stderr",
     "output_type": "stream",
     "text": [
      "/usr/local/lib/python2.7/dist-packages/h5py/__init__.py:36: FutureWarning: Conversion of the second argument of issubdtype from `float` to `np.floating` is deprecated. In future, it will be treated as `np.float64 == np.dtype(float).type`.\n",
      "  from ._conv import register_converters as _register_converters\n"
     ]
    }
   ],
   "source": [
    "import sys\n",
    "sys.path.append(\"../\")\n",
    "import tensorflow as tf\n",
    "from utils import dataset_util\n",
    "from vatic import VaticData, IMDBGroup\n",
    "import os\n",
    "from scipy.misc import imread\n",
    "import sys\n",
    "from utils import label_map_util\n",
    "import cv2\n",
    "from collections import defaultdict\n",
    "from utils import label_map_util\n",
    "from coco import coco"
   ]
  },
  {
   "cell_type": "code",
   "execution_count": 2,
   "metadata": {},
   "outputs": [],
   "source": [
    "#prepare CLS_mapper\n",
    "class DefaultClassMapper(defaultdict):\n",
    "    \n",
    "    def has_key(self,key):\n",
    "        return True\n",
    "    def __contains__(sefl, key):\n",
    "        return True\n",
    "\n",
    "\n",
    "\n",
    "CLS_mapper = DefaultClassMapper(lambda: \"__background__\")\n",
    "\n",
    "#The target classes\n",
    "CLS_mapper['bus'] = 'bus'\n",
    "CLS_mapper['motorcycle'] = \"motorcycle\"\n",
    "CLS_mapper['car'] = 'car'\n",
    "CLS_mapper['bicycle'] = 'bicycle'\n",
    "CLS_mapper['person'] = 'person'\n",
    "CLS_mapper['dog'] = 'dog'\n",
    "CLS_mapper['cat'] = 'cat'\n",
    "CLS_mapper['truck'] = 'truck'\n",
    "CLS_mapper['suitcase'] = 'suitcase'\n",
    "#The classes mapping\n",
    "CLS_mapper[u'trailer-head'] = \"truck\"\n",
    "CLS_mapper[u'sedan/suv'] = \"car\"\n",
    "CLS_mapper[u'van'] = \"car\"\n",
    "CLS_mapper[u'bike'] = \"bicycle\"\n",
    "CLS_mapper['luggage'] = 'suitcase'"
   ]
  },
  {
   "cell_type": "code",
   "execution_count": 3,
   "metadata": {},
   "outputs": [
    {
     "name": "stdout",
     "output_type": "stream",
     "text": [
      "loading annotations into memory...\n",
      "Done (t=13.34s)\n",
      "creating index...\n",
      "index created!\n",
      "loading annotations into memory...\n",
      "Done (t=6.34s)\n",
      "creating index...\n",
      "index created!\n",
      "Meta data path: /root/data/data-A1HighwayDay/meta.json does not exist. Use Default meta data\n",
      "{'test': {'start': None, 'sets': [1], 'end': None, 'stride': 30}, 'train': {'start': None, 'sets': [0], 'end': None, 'stride': 1}, 'format': 'jpg'}\n",
      "Total: 3160 images\n",
      "Meta data path: /root/data/data-airport/meta.json does not exist. Use Default meta data\n",
      "{'test': {'start': None, 'sets': [1], 'end': None, 'stride': 30}, 'train': {'start': None, 'sets': [0], 'end': None, 'stride': 1}, 'format': 'jpg'}\n",
      "Total: 604 images\n",
      "Meta data path: /root/data/data-airport2/meta.json does not exist. Use Default meta data\n",
      "{'test': {'start': None, 'sets': [1], 'end': None, 'stride': 30}, 'train': {'start': None, 'sets': [0], 'end': None, 'stride': 1}, 'format': 'jpg'}\n",
      "Total: 1900 images\n",
      "Meta data path: /root/data/data-B2HighwayNight/meta.json does not exist. Use Default meta data\n",
      "{'test': {'start': None, 'sets': [1], 'end': None, 'stride': 30}, 'train': {'start': None, 'sets': [0], 'end': None, 'stride': 1}, 'format': 'jpg'}\n",
      "Total: 3160 images\n",
      "Meta data path: /root/data/data-BigCity/meta.json does not exist. Use Default meta data\n",
      "{'test': {'start': None, 'sets': [1], 'end': None, 'stride': 30}, 'train': {'start': None, 'sets': [0], 'end': None, 'stride': 1}, 'format': 'jpg'}\n",
      "Total: 3610 images\n",
      "Meta data path: /root/data/data-luggage/meta.json does not exist. Use Default meta data\n",
      "{'test': {'start': None, 'sets': [1], 'end': None, 'stride': 30}, 'train': {'start': None, 'sets': [0], 'end': None, 'stride': 1}, 'format': 'jpg'}\n",
      "Total: 2201 images\n",
      "Meta data path: /root/data/data-luggage2/meta.json does not exist. Use Default meta data\n",
      "{'test': {'start': None, 'sets': [1], 'end': None, 'stride': 30}, 'train': {'start': None, 'sets': [0], 'end': None, 'stride': 1}, 'format': 'jpg'}\n",
      "Total: 1083 images\n",
      "Meta data path: /root/data/data-luggage3/meta.json does not exist. Use Default meta data\n",
      "{'test': {'start': None, 'sets': [1], 'end': None, 'stride': 30}, 'train': {'start': None, 'sets': [0], 'end': None, 'stride': 1}, 'format': 'jpg'}\n",
      "Total: 2313 images\n",
      "Meta data path: /root/data/data-NYC/meta.json does not exist. Use Default meta data\n",
      "{'test': {'start': None, 'sets': [1], 'end': None, 'stride': 30}, 'train': {'start': None, 'sets': [0], 'end': None, 'stride': 1}, 'format': 'jpg'}\n",
      "Total: 2733 images\n",
      "Meta data path: /root/data/data-Sedans_1/meta.json does not exist. Use Default meta data\n",
      "{'test': {'start': None, 'sets': [1], 'end': None, 'stride': 30}, 'train': {'start': None, 'sets': [0], 'end': None, 'stride': 1}, 'format': 'jpg'}\n",
      "Total: 3334 images\n",
      "Meta data path: /root/data/data-Sedans_2/meta.json does not exist. Use Default meta data\n",
      "{'test': {'start': None, 'sets': [1], 'end': None, 'stride': 30}, 'train': {'start': None, 'sets': [0], 'end': None, 'stride': 1}, 'format': 'jpg'}\n",
      "Total: 5036 images\n",
      "Meta data path: /root/data/data-Thailand-long/meta.json does not exist. Use Default meta data\n",
      "{'test': {'start': None, 'sets': [1], 'end': None, 'stride': 30}, 'train': {'start': None, 'sets': [0], 'end': None, 'stride': 1}, 'format': 'jpg'}\n",
      "Total: 2787 images\n",
      "Meta data path: /root/data/data-van/meta.json does not exist. Use Default meta data\n",
      "{'test': {'start': None, 'sets': [1], 'end': None, 'stride': 30}, 'train': {'start': None, 'sets': [0], 'end': None, 'stride': 1}, 'format': 'jpg'}\n",
      "Total: 4104 images\n",
      "Meta data path: /root/data/data-van2/meta.json does not exist. Use Default meta data\n",
      "{'test': {'start': None, 'sets': [1], 'end': None, 'stride': 30}, 'train': {'start': None, 'sets': [0], 'end': None, 'stride': 1}, 'format': 'jpg'}\n",
      "Total: 5224 images\n",
      "Meta data path: /root/data/data-YuDa/meta.json does not exist. Use Default meta data\n",
      "{'test': {'start': None, 'sets': [1], 'end': None, 'stride': 30}, 'train': {'start': None, 'sets': [0], 'end': None, 'stride': 1}, 'format': 'jpg'}\n",
      "Total: 14110 images\n"
     ]
    }
   ],
   "source": [
    "coco_train = coco(\"train\", \"2014\", CLS_mapper=CLS_mapper)   \n",
    "coco_val = coco(\"val\", \"2014\", CLS_mapper=CLS_mapper)   \n",
    "target_vatic_data = [\"A1HighwayDay\", \"airport\", \"airport2\", \"B2HighwayNight\", \"BigCity\",\\\n",
    "                     \"luggage\", \"luggage2\", \"luggage3\", \"NYC\", \"Sedans_1\", \"Sedans_2\", \\\n",
    "                     \"Thailand-long\", \"van\", \"van2\", \"YuDa\"]\n",
    "vatic_groups = [VaticData(vatic_name, CLS_mapper=CLS_mapper) for vatic_name in target_vatic_data]\n",
    "imdb_group = IMDBGroup([coco_train, coco_val] + vatic_groups)"
   ]
  },
  {
   "cell_type": "code",
   "execution_count": 4,
   "metadata": {},
   "outputs": [
    {
     "data": {
      "text/plain": [
       "{'__background__': 522586,\n",
       " 'bicycle': 7370,\n",
       " 'bus': 6344,\n",
       " 'car': 45451,\n",
       " 'cat': 4968,\n",
       " 'dog': 5718,\n",
       " 'motorcycle': 9021,\n",
       " 'person': 280359,\n",
       " 'suitcase': 6411,\n",
       " 'truck': 10384}"
      ]
     },
     "execution_count": 4,
     "metadata": {},
     "output_type": "execute_result"
    }
   ],
   "source": [
    "imdb_group.report()"
   ]
  },
  {
   "cell_type": "code",
   "execution_count": 5,
   "metadata": {},
   "outputs": [],
   "source": [
    "def get_category_name2id(path_to_labels, num_classes):\n",
    "    label_map = label_map_util.load_labelmap(path_to_labels)\n",
    "    categories = label_map_util.convert_label_map_to_categories(label_map, max_num_classes=num_classes, use_display_name=True)\n",
    "    category_index = label_map_util.create_category_index(categories)\n",
    "    return {item['name']: item['id'] for item in category_index.values()}\n",
    "\n",
    "NUM_CLASSES = 9\n",
    "PATH_TO_LABELS = \"/root/models/research/object_detection/data/AI_VMS_label_map.pbtxt\"\n",
    "\n",
    "category_name2id = get_category_name2id(PATH_TO_LABELS, NUM_CLASSES)  "
   ]
  },
  {
   "cell_type": "code",
   "execution_count": 6,
   "metadata": {},
   "outputs": [
    {
     "name": "stdout",
     "output_type": "stream",
     "text": [
      "Tensorflow Record has been writen into /root/data/tmp_data/AI_VMS_rc1.record\n"
     ]
    }
   ],
   "source": [
    "imdb_group.dumpTFRecord(\"/root/data/tmp_data/AI_VMS_rc1.record\", category_name2id)"
   ]
  },
  {
   "cell_type": "code",
   "execution_count": null,
   "metadata": {},
   "outputs": [],
   "source": []
  }
 ],
 "metadata": {
  "kernelspec": {
   "display_name": "Python 2",
   "language": "python",
   "name": "python2"
  },
  "language_info": {
   "codemirror_mode": {
    "name": "ipython",
    "version": 2
   },
   "file_extension": ".py",
   "mimetype": "text/x-python",
   "name": "python",
   "nbconvert_exporter": "python",
   "pygments_lexer": "ipython2",
   "version": "2.7.12"
  }
 },
 "nbformat": 4,
 "nbformat_minor": 2
}
